{
  "cells": [
    {
      "cell_type": "markdown",
      "metadata": {
        "id": "b3ihmZHA4ftb"
      },
      "source": [
        "## LIBRARY"
      ]
    },
    {
      "cell_type": "code",
      "execution_count": null,
      "metadata": {
        "id": "fi0-_IRf4fte"
      },
      "outputs": [],
      "source": [
        "import pandas as pd #library untuk buka data\n",
        "import numpy as np #library untuk replace data\n",
        "import matplotlib.pyplot as plt #library untuk grafik\n",
        "from sklearn.naive_bayes import GaussianNB #library untuk menghitung peluang gaussian\n",
        "import seaborn as sns #library untuk grafik"
      ]
    },
    {
      "cell_type": "markdown",
      "metadata": {
        "id": "J4ityrVg4ftf"
      },
      "source": [
        "## LOAD DATASET"
      ]
    },
    {
      "cell_type": "code",
      "execution_count": null,
      "metadata": {
        "colab": {
          "base_uri": "https://localhost:8080/"
        },
        "id": "F-BcW9Cj4ftg",
        "outputId": "86f318ab-175e-468e-f5cd-3ae6c290b808"
      },
      "outputs": [
        {
          "output_type": "stream",
          "name": "stdout",
          "text": [
            "Baris : 452 \n",
            "Kolom :  280 \n"
          ]
        }
      ],
      "source": [
        "#Baca data csv dengan library pandas\n",
        "dataFrame = pd.read_csv('https://docs.google.com/spreadsheets/d/e/2PACX-1vTSRg6g9VltRd_PzjFVJYLNPdIqLcis6SaPiqicxQREi8MM_ELES0oByZUH0xQAXTkC8u1HkY-h4zUV/pub?gid=1810807757&single=true&output=csv')\n",
        "nRow, nCol = dataFrame.shape\n",
        "print(f'Baris : {nRow} \\nKolom :  {nCol} ')"
      ]
    },
    {
      "cell_type": "markdown",
      "metadata": {
        "id": "BZKMyKg04fth"
      },
      "source": [
        "## DATA EXPLORATION"
      ]
    },
    {
      "cell_type": "code",
      "execution_count": null,
      "metadata": {
        "colab": {
          "base_uri": "https://localhost:8080/",
          "height": 505
        },
        "id": "_gNwsSx64fth",
        "outputId": "28066e8f-fc35-45ef-d820-37e751c973c3"
      },
      "outputs": [
        {
          "output_type": "execute_result",
          "data": {
            "text/plain": [
              "     age  sex  height  weight  qrs_duration  p-r_interval  q-t_interval  \\\n",
              "0     75    0     190      80            91           193           371   \n",
              "1     56    1     165      64            81           174           401   \n",
              "2     54    0     172      95           138           163           386   \n",
              "3     55    0     175      94           100           202           380   \n",
              "4     75    0     190      80            88           181           360   \n",
              "..   ...  ...     ...     ...           ...           ...           ...   \n",
              "447   53    1     160      70            80           199           382   \n",
              "448   37    0     190      85           100           137           361   \n",
              "449   36    0     166      68           108           176           365   \n",
              "450   32    1     155      55            93           106           386   \n",
              "451   78    1     160      70            79           127           364   \n",
              "\n",
              "     t_interval  p_interval  qrs  ...   KY    KZ    LA   LB LC   LD   LE  \\\n",
              "0           174         121  -16  ...  0.0   9.0  -0.9  0.0  0  0.9  2.9   \n",
              "1           149          39   25  ...  0.0   8.5   0.0  0.0  0  0.2  2.1   \n",
              "2           185         102   96  ...  0.0   9.5  -2.4  0.0  0  0.3  3.4   \n",
              "3           179         143   28  ...  0.0  12.2  -2.2  0.0  0  0.4  2.6   \n",
              "4           177         103  -16  ...  0.0  13.1  -3.6  0.0  0 -0.1  3.9   \n",
              "..          ...         ...  ...  ...  ...   ...   ...  ... ..  ...  ...   \n",
              "447         154         117  -37  ...  0.0   4.3  -5.0  0.0  0  0.7  0.6   \n",
              "448         201          73   86  ...  0.0  15.6  -1.6  0.0  0  0.4  2.4   \n",
              "449         194         116  -85  ...  0.0  16.3 -28.6  0.0  0  1.5  1.0   \n",
              "450         218          63   54  ... -0.4  12.0  -0.7  0.0  0  0.5  2.4   \n",
              "451         138          78   28  ...  0.0  10.4  -1.8  0.0  0  0.5  1.6   \n",
              "\n",
              "       LF    LG  classes  \n",
              "0    23.3  49.4        8  \n",
              "1    20.4  38.8        6  \n",
              "2    12.3  49.0       10  \n",
              "3    34.6  61.6        1  \n",
              "4    25.4  62.8        7  \n",
              "..    ...   ...      ...  \n",
              "447  -4.4  -0.5        1  \n",
              "448  38.0  62.4       10  \n",
              "449 -44.2 -33.2        2  \n",
              "450  25.0  46.6        1  \n",
              "451  21.3  32.8        1  \n",
              "\n",
              "[452 rows x 280 columns]"
            ],
            "text/html": [
              "\n",
              "  <div id=\"df-75bd7813-fa51-4417-aabe-fa1ec7e4150f\">\n",
              "    <div class=\"colab-df-container\">\n",
              "      <div>\n",
              "<style scoped>\n",
              "    .dataframe tbody tr th:only-of-type {\n",
              "        vertical-align: middle;\n",
              "    }\n",
              "\n",
              "    .dataframe tbody tr th {\n",
              "        vertical-align: top;\n",
              "    }\n",
              "\n",
              "    .dataframe thead th {\n",
              "        text-align: right;\n",
              "    }\n",
              "</style>\n",
              "<table border=\"1\" class=\"dataframe\">\n",
              "  <thead>\n",
              "    <tr style=\"text-align: right;\">\n",
              "      <th></th>\n",
              "      <th>age</th>\n",
              "      <th>sex</th>\n",
              "      <th>height</th>\n",
              "      <th>weight</th>\n",
              "      <th>qrs_duration</th>\n",
              "      <th>p-r_interval</th>\n",
              "      <th>q-t_interval</th>\n",
              "      <th>t_interval</th>\n",
              "      <th>p_interval</th>\n",
              "      <th>qrs</th>\n",
              "      <th>...</th>\n",
              "      <th>KY</th>\n",
              "      <th>KZ</th>\n",
              "      <th>LA</th>\n",
              "      <th>LB</th>\n",
              "      <th>LC</th>\n",
              "      <th>LD</th>\n",
              "      <th>LE</th>\n",
              "      <th>LF</th>\n",
              "      <th>LG</th>\n",
              "      <th>classes</th>\n",
              "    </tr>\n",
              "  </thead>\n",
              "  <tbody>\n",
              "    <tr>\n",
              "      <th>0</th>\n",
              "      <td>75</td>\n",
              "      <td>0</td>\n",
              "      <td>190</td>\n",
              "      <td>80</td>\n",
              "      <td>91</td>\n",
              "      <td>193</td>\n",
              "      <td>371</td>\n",
              "      <td>174</td>\n",
              "      <td>121</td>\n",
              "      <td>-16</td>\n",
              "      <td>...</td>\n",
              "      <td>0.0</td>\n",
              "      <td>9.0</td>\n",
              "      <td>-0.9</td>\n",
              "      <td>0.0</td>\n",
              "      <td>0</td>\n",
              "      <td>0.9</td>\n",
              "      <td>2.9</td>\n",
              "      <td>23.3</td>\n",
              "      <td>49.4</td>\n",
              "      <td>8</td>\n",
              "    </tr>\n",
              "    <tr>\n",
              "      <th>1</th>\n",
              "      <td>56</td>\n",
              "      <td>1</td>\n",
              "      <td>165</td>\n",
              "      <td>64</td>\n",
              "      <td>81</td>\n",
              "      <td>174</td>\n",
              "      <td>401</td>\n",
              "      <td>149</td>\n",
              "      <td>39</td>\n",
              "      <td>25</td>\n",
              "      <td>...</td>\n",
              "      <td>0.0</td>\n",
              "      <td>8.5</td>\n",
              "      <td>0.0</td>\n",
              "      <td>0.0</td>\n",
              "      <td>0</td>\n",
              "      <td>0.2</td>\n",
              "      <td>2.1</td>\n",
              "      <td>20.4</td>\n",
              "      <td>38.8</td>\n",
              "      <td>6</td>\n",
              "    </tr>\n",
              "    <tr>\n",
              "      <th>2</th>\n",
              "      <td>54</td>\n",
              "      <td>0</td>\n",
              "      <td>172</td>\n",
              "      <td>95</td>\n",
              "      <td>138</td>\n",
              "      <td>163</td>\n",
              "      <td>386</td>\n",
              "      <td>185</td>\n",
              "      <td>102</td>\n",
              "      <td>96</td>\n",
              "      <td>...</td>\n",
              "      <td>0.0</td>\n",
              "      <td>9.5</td>\n",
              "      <td>-2.4</td>\n",
              "      <td>0.0</td>\n",
              "      <td>0</td>\n",
              "      <td>0.3</td>\n",
              "      <td>3.4</td>\n",
              "      <td>12.3</td>\n",
              "      <td>49.0</td>\n",
              "      <td>10</td>\n",
              "    </tr>\n",
              "    <tr>\n",
              "      <th>3</th>\n",
              "      <td>55</td>\n",
              "      <td>0</td>\n",
              "      <td>175</td>\n",
              "      <td>94</td>\n",
              "      <td>100</td>\n",
              "      <td>202</td>\n",
              "      <td>380</td>\n",
              "      <td>179</td>\n",
              "      <td>143</td>\n",
              "      <td>28</td>\n",
              "      <td>...</td>\n",
              "      <td>0.0</td>\n",
              "      <td>12.2</td>\n",
              "      <td>-2.2</td>\n",
              "      <td>0.0</td>\n",
              "      <td>0</td>\n",
              "      <td>0.4</td>\n",
              "      <td>2.6</td>\n",
              "      <td>34.6</td>\n",
              "      <td>61.6</td>\n",
              "      <td>1</td>\n",
              "    </tr>\n",
              "    <tr>\n",
              "      <th>4</th>\n",
              "      <td>75</td>\n",
              "      <td>0</td>\n",
              "      <td>190</td>\n",
              "      <td>80</td>\n",
              "      <td>88</td>\n",
              "      <td>181</td>\n",
              "      <td>360</td>\n",
              "      <td>177</td>\n",
              "      <td>103</td>\n",
              "      <td>-16</td>\n",
              "      <td>...</td>\n",
              "      <td>0.0</td>\n",
              "      <td>13.1</td>\n",
              "      <td>-3.6</td>\n",
              "      <td>0.0</td>\n",
              "      <td>0</td>\n",
              "      <td>-0.1</td>\n",
              "      <td>3.9</td>\n",
              "      <td>25.4</td>\n",
              "      <td>62.8</td>\n",
              "      <td>7</td>\n",
              "    </tr>\n",
              "    <tr>\n",
              "      <th>...</th>\n",
              "      <td>...</td>\n",
              "      <td>...</td>\n",
              "      <td>...</td>\n",
              "      <td>...</td>\n",
              "      <td>...</td>\n",
              "      <td>...</td>\n",
              "      <td>...</td>\n",
              "      <td>...</td>\n",
              "      <td>...</td>\n",
              "      <td>...</td>\n",
              "      <td>...</td>\n",
              "      <td>...</td>\n",
              "      <td>...</td>\n",
              "      <td>...</td>\n",
              "      <td>...</td>\n",
              "      <td>...</td>\n",
              "      <td>...</td>\n",
              "      <td>...</td>\n",
              "      <td>...</td>\n",
              "      <td>...</td>\n",
              "      <td>...</td>\n",
              "    </tr>\n",
              "    <tr>\n",
              "      <th>447</th>\n",
              "      <td>53</td>\n",
              "      <td>1</td>\n",
              "      <td>160</td>\n",
              "      <td>70</td>\n",
              "      <td>80</td>\n",
              "      <td>199</td>\n",
              "      <td>382</td>\n",
              "      <td>154</td>\n",
              "      <td>117</td>\n",
              "      <td>-37</td>\n",
              "      <td>...</td>\n",
              "      <td>0.0</td>\n",
              "      <td>4.3</td>\n",
              "      <td>-5.0</td>\n",
              "      <td>0.0</td>\n",
              "      <td>0</td>\n",
              "      <td>0.7</td>\n",
              "      <td>0.6</td>\n",
              "      <td>-4.4</td>\n",
              "      <td>-0.5</td>\n",
              "      <td>1</td>\n",
              "    </tr>\n",
              "    <tr>\n",
              "      <th>448</th>\n",
              "      <td>37</td>\n",
              "      <td>0</td>\n",
              "      <td>190</td>\n",
              "      <td>85</td>\n",
              "      <td>100</td>\n",
              "      <td>137</td>\n",
              "      <td>361</td>\n",
              "      <td>201</td>\n",
              "      <td>73</td>\n",
              "      <td>86</td>\n",
              "      <td>...</td>\n",
              "      <td>0.0</td>\n",
              "      <td>15.6</td>\n",
              "      <td>-1.6</td>\n",
              "      <td>0.0</td>\n",
              "      <td>0</td>\n",
              "      <td>0.4</td>\n",
              "      <td>2.4</td>\n",
              "      <td>38.0</td>\n",
              "      <td>62.4</td>\n",
              "      <td>10</td>\n",
              "    </tr>\n",
              "    <tr>\n",
              "      <th>449</th>\n",
              "      <td>36</td>\n",
              "      <td>0</td>\n",
              "      <td>166</td>\n",
              "      <td>68</td>\n",
              "      <td>108</td>\n",
              "      <td>176</td>\n",
              "      <td>365</td>\n",
              "      <td>194</td>\n",
              "      <td>116</td>\n",
              "      <td>-85</td>\n",
              "      <td>...</td>\n",
              "      <td>0.0</td>\n",
              "      <td>16.3</td>\n",
              "      <td>-28.6</td>\n",
              "      <td>0.0</td>\n",
              "      <td>0</td>\n",
              "      <td>1.5</td>\n",
              "      <td>1.0</td>\n",
              "      <td>-44.2</td>\n",
              "      <td>-33.2</td>\n",
              "      <td>2</td>\n",
              "    </tr>\n",
              "    <tr>\n",
              "      <th>450</th>\n",
              "      <td>32</td>\n",
              "      <td>1</td>\n",
              "      <td>155</td>\n",
              "      <td>55</td>\n",
              "      <td>93</td>\n",
              "      <td>106</td>\n",
              "      <td>386</td>\n",
              "      <td>218</td>\n",
              "      <td>63</td>\n",
              "      <td>54</td>\n",
              "      <td>...</td>\n",
              "      <td>-0.4</td>\n",
              "      <td>12.0</td>\n",
              "      <td>-0.7</td>\n",
              "      <td>0.0</td>\n",
              "      <td>0</td>\n",
              "      <td>0.5</td>\n",
              "      <td>2.4</td>\n",
              "      <td>25.0</td>\n",
              "      <td>46.6</td>\n",
              "      <td>1</td>\n",
              "    </tr>\n",
              "    <tr>\n",
              "      <th>451</th>\n",
              "      <td>78</td>\n",
              "      <td>1</td>\n",
              "      <td>160</td>\n",
              "      <td>70</td>\n",
              "      <td>79</td>\n",
              "      <td>127</td>\n",
              "      <td>364</td>\n",
              "      <td>138</td>\n",
              "      <td>78</td>\n",
              "      <td>28</td>\n",
              "      <td>...</td>\n",
              "      <td>0.0</td>\n",
              "      <td>10.4</td>\n",
              "      <td>-1.8</td>\n",
              "      <td>0.0</td>\n",
              "      <td>0</td>\n",
              "      <td>0.5</td>\n",
              "      <td>1.6</td>\n",
              "      <td>21.3</td>\n",
              "      <td>32.8</td>\n",
              "      <td>1</td>\n",
              "    </tr>\n",
              "  </tbody>\n",
              "</table>\n",
              "<p>452 rows × 280 columns</p>\n",
              "</div>\n",
              "      <button class=\"colab-df-convert\" onclick=\"convertToInteractive('df-75bd7813-fa51-4417-aabe-fa1ec7e4150f')\"\n",
              "              title=\"Convert this dataframe to an interactive table.\"\n",
              "              style=\"display:none;\">\n",
              "        \n",
              "  <svg xmlns=\"http://www.w3.org/2000/svg\" height=\"24px\"viewBox=\"0 0 24 24\"\n",
              "       width=\"24px\">\n",
              "    <path d=\"M0 0h24v24H0V0z\" fill=\"none\"/>\n",
              "    <path d=\"M18.56 5.44l.94 2.06.94-2.06 2.06-.94-2.06-.94-.94-2.06-.94 2.06-2.06.94zm-11 1L8.5 8.5l.94-2.06 2.06-.94-2.06-.94L8.5 2.5l-.94 2.06-2.06.94zm10 10l.94 2.06.94-2.06 2.06-.94-2.06-.94-.94-2.06-.94 2.06-2.06.94z\"/><path d=\"M17.41 7.96l-1.37-1.37c-.4-.4-.92-.59-1.43-.59-.52 0-1.04.2-1.43.59L10.3 9.45l-7.72 7.72c-.78.78-.78 2.05 0 2.83L4 21.41c.39.39.9.59 1.41.59.51 0 1.02-.2 1.41-.59l7.78-7.78 2.81-2.81c.8-.78.8-2.07 0-2.86zM5.41 20L4 18.59l7.72-7.72 1.47 1.35L5.41 20z\"/>\n",
              "  </svg>\n",
              "      </button>\n",
              "      \n",
              "  <style>\n",
              "    .colab-df-container {\n",
              "      display:flex;\n",
              "      flex-wrap:wrap;\n",
              "      gap: 12px;\n",
              "    }\n",
              "\n",
              "    .colab-df-convert {\n",
              "      background-color: #E8F0FE;\n",
              "      border: none;\n",
              "      border-radius: 50%;\n",
              "      cursor: pointer;\n",
              "      display: none;\n",
              "      fill: #1967D2;\n",
              "      height: 32px;\n",
              "      padding: 0 0 0 0;\n",
              "      width: 32px;\n",
              "    }\n",
              "\n",
              "    .colab-df-convert:hover {\n",
              "      background-color: #E2EBFA;\n",
              "      box-shadow: 0px 1px 2px rgba(60, 64, 67, 0.3), 0px 1px 3px 1px rgba(60, 64, 67, 0.15);\n",
              "      fill: #174EA6;\n",
              "    }\n",
              "\n",
              "    [theme=dark] .colab-df-convert {\n",
              "      background-color: #3B4455;\n",
              "      fill: #D2E3FC;\n",
              "    }\n",
              "\n",
              "    [theme=dark] .colab-df-convert:hover {\n",
              "      background-color: #434B5C;\n",
              "      box-shadow: 0px 1px 3px 1px rgba(0, 0, 0, 0.15);\n",
              "      filter: drop-shadow(0px 1px 2px rgba(0, 0, 0, 0.3));\n",
              "      fill: #FFFFFF;\n",
              "    }\n",
              "  </style>\n",
              "\n",
              "      <script>\n",
              "        const buttonEl =\n",
              "          document.querySelector('#df-75bd7813-fa51-4417-aabe-fa1ec7e4150f button.colab-df-convert');\n",
              "        buttonEl.style.display =\n",
              "          google.colab.kernel.accessAllowed ? 'block' : 'none';\n",
              "\n",
              "        async function convertToInteractive(key) {\n",
              "          const element = document.querySelector('#df-75bd7813-fa51-4417-aabe-fa1ec7e4150f');\n",
              "          const dataTable =\n",
              "            await google.colab.kernel.invokeFunction('convertToInteractive',\n",
              "                                                     [key], {});\n",
              "          if (!dataTable) return;\n",
              "\n",
              "          const docLinkHtml = 'Like what you see? Visit the ' +\n",
              "            '<a target=\"_blank\" href=https://colab.research.google.com/notebooks/data_table.ipynb>data table notebook</a>'\n",
              "            + ' to learn more about interactive tables.';\n",
              "          element.innerHTML = '';\n",
              "          dataTable['output_type'] = 'display_data';\n",
              "          await google.colab.output.renderOutput(dataTable, element);\n",
              "          const docLink = document.createElement('div');\n",
              "          docLink.innerHTML = docLinkHtml;\n",
              "          element.appendChild(docLink);\n",
              "        }\n",
              "      </script>\n",
              "    </div>\n",
              "  </div>\n",
              "  "
            ]
          },
          "metadata": {},
          "execution_count": 3
        }
      ],
      "source": [
        "#Replace Data \"?\" dengan NaN\n",
        "def replaceUnknownData(dataFrame):\n",
        "    return dataFrame.replace([\"?\"], np.NaN)\n",
        "\n",
        "dataFrame = replaceUnknownData(dataFrame)\n",
        "dataFrame"
      ]
    },
    {
      "cell_type": "code",
      "execution_count": null,
      "metadata": {
        "id": "b9iqCHWS4fti"
      },
      "outputs": [],
      "source": [
        "#Menampilkan Jumlah data NaN disetiap kolom dan persentasenya\n",
        "def unknownDataReport(dataFrame):\n",
        "    NaN = dataFrame.isnull().sum()\n",
        "    print('Total Data \"?\" :')\n",
        "    for i in range(len(dataFrame.columns)):\n",
        "        if NaN[i] != 0 and NaN[i] > 0 :\n",
        "            print(\"Total Data Hilang Kolom \"f\"{dataFrame.columns[i]} : {NaN[i]} || Persentase : {(NaN[i]/len(dataFrame))*100}%\")\n",
        "    sumRows = dataFrame.shape[0]\n",
        "    sumColumns = dataFrame.shape[1]\n",
        "    sumCells = sumRows * sumColumns\n",
        "    sumMissing = NaN.sum()\n",
        "    print(f\"\\nTotal data yang hilang keseluruhan : {sumMissing} || Persentase : {(sumMissing/sumCells) * 100}%\\n\")"
      ]
    },
    {
      "cell_type": "code",
      "execution_count": null,
      "metadata": {
        "colab": {
          "base_uri": "https://localhost:8080/"
        },
        "id": "-DBtEq6Z4ftj",
        "outputId": "6f599178-d391-4e21-ce91-f52b49237540"
      },
      "outputs": [
        {
          "output_type": "stream",
          "name": "stdout",
          "text": [
            "Total Data \"?\" :\n",
            "Total Data Hilang Kolom T : 8 || Persentase : 1.7699115044247788%\n",
            "Total Data Hilang Kolom P : 22 || Persentase : 4.867256637168142%\n",
            "Total Data Hilang Kolom QRST : 1 || Persentase : 0.22123893805309736%\n",
            "Total Data Hilang Kolom J : 376 || Persentase : 83.1858407079646%\n",
            "Total Data Hilang Kolom heart_rate : 1 || Persentase : 0.22123893805309736%\n",
            "\n",
            "Total data yang hilang keseluruhan : 408 || Persentase : 0.3223767383059419%\n",
            "\n"
          ]
        }
      ],
      "source": [
        "unknownDataReport(dataFrame)"
      ]
    },
    {
      "cell_type": "code",
      "execution_count": null,
      "metadata": {
        "id": "XPaKno7X4ftj"
      },
      "outputs": [],
      "source": [
        "#Menampilkan Jumlah data \"0\" disetiap kolom dan persentasenya\n",
        "def zeroDataReport(dataFrame):\n",
        "    print('Total Data \"0\" :')\n",
        "    zeroValueTotal = 0\n",
        "    for col in dataFrame.columns:\n",
        "        col_values = dataFrame[col]\n",
        "        count = (col_values == 0).sum()\n",
        "        zeroValueTotal += count\n",
        "        print(\"Total Data Hilang Kolom \"f\"{col} : {count} || Persentase : {(count/len(dataFrame))*100}%\")\n",
        "    sumRows = dataFrame.shape[0]\n",
        "    sumColumns = dataFrame.shape[1]\n",
        "    sumCells = sumRows * sumColumns\n",
        "    sumMissing = zeroValueTotal\n",
        "    print(f\"\\nTotal data yang bernilai '0' keseluruhan : {sumMissing} || Persentase : {(sumMissing/sumCells) * 100}%\\n\")"
      ]
    },
    {
      "cell_type": "code",
      "execution_count": null,
      "metadata": {
        "colab": {
          "base_uri": "https://localhost:8080/"
        },
        "id": "M9JaGR5b4ftk",
        "outputId": "9bc04183-2e16-4a0a-d905-396f5b7802c6"
      },
      "outputs": [
        {
          "output_type": "stream",
          "name": "stdout",
          "text": [
            "Total Data \"0\" :\n",
            "Total Data Hilang Kolom age : 1 || Persentase : 0.22123893805309736%\n",
            "Total Data Hilang Kolom sex : 203 || Persentase : 44.911504424778755%\n",
            "Total Data Hilang Kolom height : 0 || Persentase : 0.0%\n",
            "Total Data Hilang Kolom weight : 0 || Persentase : 0.0%\n",
            "Total Data Hilang Kolom qrs_duration : 0 || Persentase : 0.0%\n",
            "Total Data Hilang Kolom p-r_interval : 18 || Persentase : 3.982300884955752%\n",
            "Total Data Hilang Kolom q-t_interval : 0 || Persentase : 0.0%\n",
            "Total Data Hilang Kolom t_interval : 0 || Persentase : 0.0%\n",
            "Total Data Hilang Kolom p_interval : 12 || Persentase : 2.6548672566371683%\n",
            "Total Data Hilang Kolom qrs : 3 || Persentase : 0.6637168141592921%\n",
            "Total Data Hilang Kolom T : 0 || Persentase : 0.0%\n",
            "Total Data Hilang Kolom P : 0 || Persentase : 0.0%\n",
            "Total Data Hilang Kolom QRST : 0 || Persentase : 0.0%\n",
            "Total Data Hilang Kolom J : 0 || Persentase : 0.0%\n",
            "Total Data Hilang Kolom heart_rate : 0 || Persentase : 0.0%\n",
            "Total Data Hilang Kolom q_wave : 334 || Persentase : 73.89380530973452%\n",
            "Total Data Hilang Kolom r_wave : 3 || Persentase : 0.6637168141592921%\n",
            "Total Data Hilang Kolom s_wave : 192 || Persentase : 42.47787610619469%\n",
            "Total Data Hilang Kolom R'_wave : 448 || Persentase : 99.11504424778761%\n",
            "Total Data Hilang Kolom S'_wave : 452 || Persentase : 100.0%\n",
            "Total Data Hilang Kolom AA : 3 || Persentase : 0.6637168141592921%\n",
            "Total Data Hilang Kolom AB : 451 || Persentase : 99.77876106194691%\n",
            "Total Data Hilang Kolom AC : 447 || Persentase : 98.89380530973452%\n",
            "Total Data Hilang Kolom AD : 447 || Persentase : 98.89380530973452%\n",
            "Total Data Hilang Kolom AE : 450 || Persentase : 99.5575221238938%\n",
            "Total Data Hilang Kolom AF : 450 || Persentase : 99.5575221238938%\n",
            "Total Data Hilang Kolom AG : 448 || Persentase : 99.11504424778761%\n",
            "Total Data Hilang Kolom AH : 347 || Persentase : 76.76991150442478%\n",
            "Total Data Hilang Kolom AI : 2 || Persentase : 0.4424778761061947%\n",
            "Total Data Hilang Kolom AJ : 197 || Persentase : 43.584070796460175%\n",
            "Total Data Hilang Kolom AK : 442 || Persentase : 97.78761061946902%\n",
            "Total Data Hilang Kolom AL : 450 || Persentase : 99.5575221238938%\n",
            "Total Data Hilang Kolom AM : 2 || Persentase : 0.4424778761061947%\n",
            "Total Data Hilang Kolom AN : 444 || Persentase : 98.23008849557522%\n",
            "Total Data Hilang Kolom AO : 439 || Persentase : 97.12389380530973%\n",
            "Total Data Hilang Kolom AP : 451 || Persentase : 99.77876106194691%\n",
            "Total Data Hilang Kolom AR : 450 || Persentase : 99.5575221238938%\n",
            "Total Data Hilang Kolom AS : 450 || Persentase : 99.5575221238938%\n",
            "Total Data Hilang Kolom AT : 445 || Persentase : 98.45132743362832%\n",
            "Total Data Hilang Kolom AU : 253 || Persentase : 55.97345132743363%\n",
            "Total Data Hilang Kolom AV : 43 || Persentase : 9.513274336283185%\n",
            "Total Data Hilang Kolom AY : 239 || Persentase : 52.876106194690266%\n",
            "Total Data Hilang Kolom AZ : 418 || Persentase : 92.47787610619469%\n",
            "Total Data Hilang Kolom AB' : 447 || Persentase : 98.89380530973452%\n",
            "Total Data Hilang Kolom BB : 43 || Persentase : 9.513274336283185%\n",
            "Total Data Hilang Kolom BC : 451 || Persentase : 99.77876106194691%\n",
            "Total Data Hilang Kolom BD : 436 || Persentase : 96.46017699115043%\n",
            "Total Data Hilang Kolom BE : 451 || Persentase : 99.77876106194691%\n",
            "Total Data Hilang Kolom BF : 444 || Persentase : 98.23008849557522%\n",
            "Total Data Hilang Kolom BG : 447 || Persentase : 98.89380530973452%\n",
            "Total Data Hilang Kolom BH : 450 || Persentase : 99.5575221238938%\n",
            "Total Data Hilang Kolom BI : 73 || Persentase : 16.150442477876105%\n",
            "Total Data Hilang Kolom BJ : 165 || Persentase : 36.50442477876106%\n",
            "Total Data Hilang Kolom BK : 378 || Persentase : 83.6283185840708%\n",
            "Total Data Hilang Kolom BL : 415 || Persentase : 91.8141592920354%\n",
            "Total Data Hilang Kolom BM : 451 || Persentase : 99.77876106194691%\n",
            "Total Data Hilang Kolom BN : 165 || Persentase : 36.50442477876106%\n",
            "Total Data Hilang Kolom BO : 447 || Persentase : 98.89380530973452%\n",
            "Total Data Hilang Kolom BP : 450 || Persentase : 99.5575221238938%\n",
            "Total Data Hilang Kolom BR : 450 || Persentase : 99.5575221238938%\n",
            "Total Data Hilang Kolom BS : 450 || Persentase : 99.5575221238938%\n",
            "Total Data Hilang Kolom BT : 450 || Persentase : 99.5575221238938%\n",
            "Total Data Hilang Kolom BU : 448 || Persentase : 99.11504424778761%\n",
            "Total Data Hilang Kolom BV : 300 || Persentase : 66.3716814159292%\n",
            "Total Data Hilang Kolom BY : 32 || Persentase : 7.079646017699115%\n",
            "Total Data Hilang Kolom BZ : 231 || Persentase : 51.10619469026548%\n",
            "Total Data Hilang Kolom CA : 441 || Persentase : 97.56637168141593%\n",
            "Total Data Hilang Kolom CB : 452 || Persentase : 100.0%\n",
            "Total Data Hilang Kolom CC : 32 || Persentase : 7.079646017699115%\n",
            "Total Data Hilang Kolom CD : 452 || Persentase : 100.0%\n",
            "Total Data Hilang Kolom CE : 444 || Persentase : 98.23008849557522%\n",
            "Total Data Hilang Kolom Cf : 451 || Persentase : 99.77876106194691%\n",
            "Total Data Hilang Kolom CG : 451 || Persentase : 99.77876106194691%\n",
            "Total Data Hilang Kolom CH : 449 || Persentase : 99.33628318584071%\n",
            "Total Data Hilang Kolom CI : 451 || Persentase : 99.77876106194691%\n",
            "Total Data Hilang Kolom CJ : 340 || Persentase : 75.22123893805309%\n",
            "Total Data Hilang Kolom CK : 15 || Persentase : 3.3185840707964607%\n",
            "Total Data Hilang Kolom CL : 226 || Persentase : 50.0%\n",
            "Total Data Hilang Kolom CM : 438 || Persentase : 96.90265486725663%\n",
            "Total Data Hilang Kolom CN : 449 || Persentase : 99.33628318584071%\n",
            "Total Data Hilang Kolom CO : 15 || Persentase : 3.3185840707964607%\n",
            "Total Data Hilang Kolom CP : 450 || Persentase : 99.5575221238938%\n",
            "Total Data Hilang Kolom CR : 441 || Persentase : 97.56637168141593%\n",
            "Total Data Hilang Kolom CS : 452 || Persentase : 100.0%\n",
            "Total Data Hilang Kolom CT : 451 || Persentase : 99.77876106194691%\n",
            "Total Data Hilang Kolom CU : 451 || Persentase : 99.77876106194691%\n",
            "Total Data Hilang Kolom CV : 451 || Persentase : 99.77876106194691%\n",
            "Total Data Hilang Kolom CY : 363 || Persentase : 80.30973451327434%\n",
            "Total Data Hilang Kolom CZ : 79 || Persentase : 17.47787610619469%\n",
            "Total Data Hilang Kolom DA : 90 || Persentase : 19.911504424778762%\n",
            "Total Data Hilang Kolom DB : 404 || Persentase : 89.38053097345133%\n",
            "Total Data Hilang Kolom DC : 449 || Persentase : 99.33628318584071%\n",
            "Total Data Hilang Kolom DD : 79 || Persentase : 17.47787610619469%\n",
            "Total Data Hilang Kolom DE : 449 || Persentase : 99.33628318584071%\n",
            "Total Data Hilang Kolom DF : 445 || Persentase : 98.45132743362832%\n",
            "Total Data Hilang Kolom DG : 448 || Persentase : 99.11504424778761%\n",
            "Total Data Hilang Kolom DH : 448 || Persentase : 99.11504424778761%\n",
            "Total Data Hilang Kolom DI : 447 || Persentase : 98.89380530973452%\n",
            "Total Data Hilang Kolom DJ : 442 || Persentase : 97.78761061946902%\n",
            "Total Data Hilang Kolom DK : 409 || Persentase : 90.48672566371681%\n",
            "Total Data Hilang Kolom DL : 34 || Persentase : 7.52212389380531%\n",
            "Total Data Hilang Kolom DM : 38 || Persentase : 8.4070796460177%\n",
            "Total Data Hilang Kolom DN : 421 || Persentase : 93.14159292035397%\n",
            "Total Data Hilang Kolom DO : 449 || Persentase : 99.33628318584071%\n",
            "Total Data Hilang Kolom DP : 34 || Persentase : 7.52212389380531%\n",
            "Total Data Hilang Kolom DR : 448 || Persentase : 99.11504424778761%\n",
            "Total Data Hilang Kolom DS : 448 || Persentase : 99.11504424778761%\n",
            "Total Data Hilang Kolom DT : 446 || Persentase : 98.67256637168141%\n",
            "Total Data Hilang Kolom DU : 448 || Persentase : 99.11504424778761%\n",
            "Total Data Hilang Kolom DV : 448 || Persentase : 99.11504424778761%\n",
            "Total Data Hilang Kolom DY : 444 || Persentase : 98.23008849557522%\n",
            "Total Data Hilang Kolom DZ : 423 || Persentase : 93.58407079646017%\n",
            "Total Data Hilang Kolom EA : 19 || Persentase : 4.20353982300885%\n",
            "Total Data Hilang Kolom EB : 21 || Persentase : 4.646017699115045%\n",
            "Total Data Hilang Kolom EC : 446 || Persentase : 98.67256637168141%\n",
            "Total Data Hilang Kolom ED : 450 || Persentase : 99.5575221238938%\n",
            "Total Data Hilang Kolom EF : 19 || Persentase : 4.20353982300885%\n",
            "Total Data Hilang Kolom EG : 441 || Persentase : 97.56637168141593%\n",
            "Total Data Hilang Kolom EH : 450 || Persentase : 99.5575221238938%\n",
            "Total Data Hilang Kolom EI : 449 || Persentase : 99.33628318584071%\n",
            "Total Data Hilang Kolom EJ : 448 || Persentase : 99.11504424778761%\n",
            "Total Data Hilang Kolom EK : 449 || Persentase : 99.33628318584071%\n",
            "Total Data Hilang Kolom EL : 447 || Persentase : 98.89380530973452%\n",
            "Total Data Hilang Kolom EM : 401 || Persentase : 88.71681415929203%\n",
            "Total Data Hilang Kolom EN : 7 || Persentase : 1.5486725663716814%\n",
            "Total Data Hilang Kolom EO : 15 || Persentase : 3.3185840707964607%\n",
            "Total Data Hilang Kolom EP : 437 || Persentase : 96.68141592920354%\n",
            "Total Data Hilang Kolom ER : 450 || Persentase : 99.5575221238938%\n",
            "Total Data Hilang Kolom ES : 7 || Persentase : 1.5486725663716814%\n",
            "Total Data Hilang Kolom ET : 450 || Persentase : 99.5575221238938%\n",
            "Total Data Hilang Kolom EU : 446 || Persentase : 98.67256637168141%\n",
            "Total Data Hilang Kolom EV : 452 || Persentase : 100.0%\n",
            "Total Data Hilang Kolom EY : 452 || Persentase : 100.0%\n",
            "Total Data Hilang Kolom EZ : 450 || Persentase : 99.5575221238938%\n",
            "Total Data Hilang Kolom FA : 444 || Persentase : 98.23008849557522%\n",
            "Total Data Hilang Kolom FB : 351 || Persentase : 77.65486725663717%\n",
            "Total Data Hilang Kolom FC : 3 || Persentase : 0.6637168141592921%\n",
            "Total Data Hilang Kolom FD : 32 || Persentase : 7.079646017699115%\n",
            "Total Data Hilang Kolom FE : 447 || Persentase : 98.89380530973452%\n",
            "Total Data Hilang Kolom FF : 452 || Persentase : 100.0%\n",
            "Total Data Hilang Kolom FG : 3 || Persentase : 0.6637168141592921%\n",
            "Total Data Hilang Kolom FH : 452 || Persentase : 100.0%\n",
            "Total Data Hilang Kolom FI : 449 || Persentase : 99.33628318584071%\n",
            "Total Data Hilang Kolom FJ : 452 || Persentase : 100.0%\n",
            "Total Data Hilang Kolom FK : 451 || Persentase : 99.77876106194691%\n",
            "Total Data Hilang Kolom FL : 452 || Persentase : 100.0%\n",
            "Total Data Hilang Kolom FM : 449 || Persentase : 99.33628318584071%\n",
            "Total Data Hilang Kolom FN : 311 || Persentase : 68.80530973451327%\n",
            "Total Data Hilang Kolom FO : 2 || Persentase : 0.4424778761061947%\n",
            "Total Data Hilang Kolom FP : 144 || Persentase : 31.858407079646017%\n",
            "Total Data Hilang Kolom FR : 449 || Persentase : 99.33628318584071%\n",
            "Total Data Hilang Kolom FS : 452 || Persentase : 100.0%\n",
            "Total Data Hilang Kolom FT : 2 || Persentase : 0.4424778761061947%\n",
            "Total Data Hilang Kolom FU : 451 || Persentase : 99.77876106194691%\n",
            "Total Data Hilang Kolom FV : 451 || Persentase : 99.77876106194691%\n",
            "Total Data Hilang Kolom FY : 450 || Persentase : 99.5575221238938%\n",
            "Total Data Hilang Kolom FZ : 452 || Persentase : 100.0%\n",
            "Total Data Hilang Kolom GA : 452 || Persentase : 100.0%\n",
            "Total Data Hilang Kolom GB : 447 || Persentase : 98.89380530973452%\n",
            "Total Data Hilang Kolom GC : 67 || Persentase : 14.823008849557523%\n",
            "Total Data Hilang Kolom GD : 334 || Persentase : 73.89380530973452%\n",
            "Total Data Hilang Kolom GE : 3 || Persentase : 0.6637168141592921%\n",
            "Total Data Hilang Kolom GF : 192 || Persentase : 42.47787610619469%\n",
            "Total Data Hilang Kolom GG : 448 || Persentase : 99.11504424778761%\n",
            "Total Data Hilang Kolom GH : 452 || Persentase : 100.0%\n",
            "Total Data Hilang Kolom GI : 4 || Persentase : 0.8849557522123894%\n",
            "Total Data Hilang Kolom GJ : 2 || Persentase : 0.4424778761061947%\n",
            "Total Data Hilang Kolom GK : 1 || Persentase : 0.22123893805309736%\n",
            "Total Data Hilang Kolom GL : 0 || Persentase : 0.0%\n",
            "Total Data Hilang Kolom GM : 65 || Persentase : 14.380530973451327%\n",
            "Total Data Hilang Kolom GN : 347 || Persentase : 76.76991150442478%\n",
            "Total Data Hilang Kolom GO : 2 || Persentase : 0.4424778761061947%\n",
            "Total Data Hilang Kolom GP : 197 || Persentase : 43.584070796460175%\n",
            "Total Data Hilang Kolom GR : 442 || Persentase : 97.78761061946902%\n",
            "Total Data Hilang Kolom GS : 450 || Persentase : 99.5575221238938%\n",
            "Total Data Hilang Kolom GT : 4 || Persentase : 0.8849557522123894%\n",
            "Total Data Hilang Kolom GU : 1 || Persentase : 0.22123893805309736%\n",
            "Total Data Hilang Kolom GV : 0 || Persentase : 0.0%\n",
            "Total Data Hilang Kolom GY : 0 || Persentase : 0.0%\n",
            "Total Data Hilang Kolom GZ : 71 || Persentase : 15.70796460176991%\n",
            "Total Data Hilang Kolom HA : 253 || Persentase : 55.97345132743363%\n",
            "Total Data Hilang Kolom HB : 43 || Persentase : 9.513274336283185%\n",
            "Total Data Hilang Kolom HC : 239 || Persentase : 52.876106194690266%\n",
            "Total Data Hilang Kolom HD : 418 || Persentase : 92.47787610619469%\n",
            "Total Data Hilang Kolom HE : 447 || Persentase : 98.89380530973452%\n",
            "Total Data Hilang Kolom HF : 4 || Persentase : 0.8849557522123894%\n",
            "Total Data Hilang Kolom HG : 2 || Persentase : 0.4424778761061947%\n",
            "Total Data Hilang Kolom HH : 1 || Persentase : 0.22123893805309736%\n",
            "Total Data Hilang Kolom HI : 0 || Persentase : 0.0%\n",
            "Total Data Hilang Kolom HJ : 61 || Persentase : 13.495575221238937%\n",
            "Total Data Hilang Kolom HK : 73 || Persentase : 16.150442477876105%\n",
            "Total Data Hilang Kolom HL : 165 || Persentase : 36.50442477876106%\n",
            "Total Data Hilang Kolom HM : 378 || Persentase : 83.6283185840708%\n",
            "Total Data Hilang Kolom HN : 415 || Persentase : 91.8141592920354%\n",
            "Total Data Hilang Kolom HO : 451 || Persentase : 99.77876106194691%\n",
            "Total Data Hilang Kolom HP : 10 || Persentase : 2.2123893805309733%\n",
            "Total Data Hilang Kolom HR : 1 || Persentase : 0.22123893805309736%\n",
            "Total Data Hilang Kolom HS : 0 || Persentase : 0.0%\n",
            "Total Data Hilang Kolom HT : 0 || Persentase : 0.0%\n",
            "Total Data Hilang Kolom HU : 82 || Persentase : 18.141592920353983%\n",
            "Total Data Hilang Kolom HV : 300 || Persentase : 66.3716814159292%\n",
            "Total Data Hilang Kolom HY : 32 || Persentase : 7.079646017699115%\n",
            "Total Data Hilang Kolom HZ : 231 || Persentase : 51.10619469026548%\n",
            "Total Data Hilang Kolom IA : 441 || Persentase : 97.56637168141593%\n",
            "Total Data Hilang Kolom IB : 452 || Persentase : 100.0%\n",
            "Total Data Hilang Kolom IC : 13 || Persentase : 2.8761061946902653%\n",
            "Total Data Hilang Kolom ID : 3 || Persentase : 0.6637168141592921%\n",
            "Total Data Hilang Kolom IE : 4 || Persentase : 0.8849557522123894%\n",
            "Total Data Hilang Kolom IF : 3 || Persentase : 0.6637168141592921%\n",
            "Total Data Hilang Kolom IG : 68 || Persentase : 15.04424778761062%\n",
            "Total Data Hilang Kolom IH : 340 || Persentase : 75.22123893805309%\n",
            "Total Data Hilang Kolom II : 15 || Persentase : 3.3185840707964607%\n",
            "Total Data Hilang Kolom IJ : 226 || Persentase : 50.0%\n",
            "Total Data Hilang Kolom IK : 438 || Persentase : 96.90265486725663%\n",
            "Total Data Hilang Kolom IL : 449 || Persentase : 99.33628318584071%\n",
            "Total Data Hilang Kolom IM : 10 || Persentase : 2.2123893805309733%\n",
            "Total Data Hilang Kolom IN : 1 || Persentase : 0.22123893805309736%\n",
            "Total Data Hilang Kolom IO : 3 || Persentase : 0.6637168141592921%\n",
            "Total Data Hilang Kolom IP : 0 || Persentase : 0.0%\n",
            "Total Data Hilang Kolom IR : 19 || Persentase : 4.20353982300885%\n",
            "Total Data Hilang Kolom IS : 363 || Persentase : 80.30973451327434%\n",
            "Total Data Hilang Kolom IT : 79 || Persentase : 17.47787610619469%\n",
            "Total Data Hilang Kolom IU : 90 || Persentase : 19.911504424778762%\n",
            "Total Data Hilang Kolom IV : 404 || Persentase : 89.38053097345133%\n",
            "Total Data Hilang Kolom IY : 449 || Persentase : 99.33628318584071%\n",
            "Total Data Hilang Kolom IZ : 46 || Persentase : 10.176991150442479%\n",
            "Total Data Hilang Kolom JA : 0 || Persentase : 0.0%\n",
            "Total Data Hilang Kolom JB : 0 || Persentase : 0.0%\n",
            "Total Data Hilang Kolom JC : 0 || Persentase : 0.0%\n",
            "Total Data Hilang Kolom JD : 23 || Persentase : 5.0884955752212395%\n",
            "Total Data Hilang Kolom JE : 409 || Persentase : 90.48672566371681%\n",
            "Total Data Hilang Kolom JF : 34 || Persentase : 7.52212389380531%\n",
            "Total Data Hilang Kolom JG : 38 || Persentase : 8.4070796460177%\n",
            "Total Data Hilang Kolom JH : 421 || Persentase : 93.14159292035397%\n",
            "Total Data Hilang Kolom JI : 449 || Persentase : 99.33628318584071%\n",
            "Total Data Hilang Kolom JJ : 49 || Persentase : 10.84070796460177%\n",
            "Total Data Hilang Kolom JK : 0 || Persentase : 0.0%\n",
            "Total Data Hilang Kolom JL : 1 || Persentase : 0.22123893805309736%\n",
            "Total Data Hilang Kolom JM : 0 || Persentase : 0.0%\n",
            "Total Data Hilang Kolom JN : 33 || Persentase : 7.300884955752212%\n",
            "Total Data Hilang Kolom JO : 423 || Persentase : 93.58407079646017%\n",
            "Total Data Hilang Kolom JP : 19 || Persentase : 4.20353982300885%\n",
            "Total Data Hilang Kolom JR : 21 || Persentase : 4.646017699115045%\n",
            "Total Data Hilang Kolom JS : 446 || Persentase : 98.67256637168141%\n",
            "Total Data Hilang Kolom JT : 450 || Persentase : 99.5575221238938%\n",
            "Total Data Hilang Kolom JU : 49 || Persentase : 10.84070796460177%\n",
            "Total Data Hilang Kolom JV : 0 || Persentase : 0.0%\n",
            "Total Data Hilang Kolom JY : 0 || Persentase : 0.0%\n",
            "Total Data Hilang Kolom JZ : 0 || Persentase : 0.0%\n",
            "Total Data Hilang Kolom KA : 45 || Persentase : 9.955752212389381%\n",
            "Total Data Hilang Kolom KB : 401 || Persentase : 88.71681415929203%\n",
            "Total Data Hilang Kolom KC : 7 || Persentase : 1.5486725663716814%\n",
            "Total Data Hilang Kolom KD : 15 || Persentase : 3.3185840707964607%\n",
            "Total Data Hilang Kolom KE : 437 || Persentase : 96.68141592920354%\n",
            "Total Data Hilang Kolom KF : 450 || Persentase : 99.5575221238938%\n",
            "Total Data Hilang Kolom KG : 6 || Persentase : 1.3274336283185841%\n",
            "Total Data Hilang Kolom KH : 0 || Persentase : 0.0%\n",
            "Total Data Hilang Kolom KI : 5 || Persentase : 1.1061946902654867%\n",
            "Total Data Hilang Kolom KJ : 0 || Persentase : 0.0%\n",
            "Total Data Hilang Kolom KK : 54 || Persentase : 11.946902654867257%\n",
            "Total Data Hilang Kolom KL : 351 || Persentase : 77.65486725663717%\n",
            "Total Data Hilang Kolom KM : 3 || Persentase : 0.6637168141592921%\n",
            "Total Data Hilang Kolom KN : 32 || Persentase : 7.079646017699115%\n",
            "Total Data Hilang Kolom KO : 447 || Persentase : 98.89380530973452%\n",
            "Total Data Hilang Kolom KP : 452 || Persentase : 100.0%\n",
            "Total Data Hilang Kolom KR : 7 || Persentase : 1.5486725663716814%\n",
            "Total Data Hilang Kolom KS : 0 || Persentase : 0.0%\n",
            "Total Data Hilang Kolom KT : 0 || Persentase : 0.0%\n",
            "Total Data Hilang Kolom KU : 1 || Persentase : 0.22123893805309736%\n",
            "Total Data Hilang Kolom KV : 49 || Persentase : 10.84070796460177%\n",
            "Total Data Hilang Kolom KY : 311 || Persentase : 68.80530973451327%\n",
            "Total Data Hilang Kolom KZ : 2 || Persentase : 0.4424778761061947%\n",
            "Total Data Hilang Kolom LA : 144 || Persentase : 31.858407079646017%\n",
            "Total Data Hilang Kolom LB : 449 || Persentase : 99.33628318584071%\n",
            "Total Data Hilang Kolom LC : 452 || Persentase : 100.0%\n",
            "Total Data Hilang Kolom LD : 7 || Persentase : 1.5486725663716814%\n",
            "Total Data Hilang Kolom LE : 0 || Persentase : 0.0%\n",
            "Total Data Hilang Kolom LF : 0 || Persentase : 0.0%\n",
            "Total Data Hilang Kolom LG : 0 || Persentase : 0.0%\n",
            "Total Data Hilang Kolom classes : 0 || Persentase : 0.0%\n",
            "\n",
            "Total data yang bernilai '0' keseluruhan : 67245 || Persentase : 53.13290139064475%\n",
            "\n"
          ]
        }
      ],
      "source": [
        "zeroDataReport(dataFrame)"
      ]
    },
    {
      "cell_type": "markdown",
      "metadata": {
        "id": "zNlrbwz04ftk"
      },
      "source": [
        "### Outliner Data"
      ]
    },
    {
      "cell_type": "code",
      "execution_count": null,
      "metadata": {
        "colab": {
          "base_uri": "https://localhost:8080/",
          "height": 465
        },
        "id": "mwtou_-64ftk",
        "outputId": "a3a015d6-7e8c-4520-b59c-45739a25dbca"
      },
      "outputs": [
        {
          "output_type": "stream",
          "name": "stdout",
          "text": [
            "Boxplot Height\n"
          ]
        },
        {
          "output_type": "execute_result",
          "data": {
            "text/plain": [
              "<Axes: >"
            ]
          },
          "metadata": {},
          "execution_count": 8
        },
        {
          "output_type": "display_data",
          "data": {
            "text/plain": [
              "<Figure size 640x480 with 1 Axes>"
            ],
            "image/png": "[encoded data removed]"
          },
          "metadata": {}
        }
      ],
      "source": [
        "#cek Data Outline dengan menggunakan boxplot untuk kolom height\n",
        "print(\"Boxplot Height\")\n",
        "sns.boxplot(dataFrame['height'])"
      ]
    },
    {
      "cell_type": "code",
      "execution_count": null,
      "metadata": {
        "colab": {
          "base_uri": "https://localhost:8080/",
          "height": 465
        },
        "id": "gCvF1ref4ftk",
        "outputId": "e82c4c8b-627b-45c7-a4c8-44efdbcbfb26"
      },
      "outputs": [
        {
          "output_type": "stream",
          "name": "stdout",
          "text": [
            "Boxplot weight\n"
          ]
        },
        {
          "output_type": "execute_result",
          "data": {
            "text/plain": [
              "<Axes: >"
            ]
          },
          "metadata": {},
          "execution_count": 9
        },
        {
          "output_type": "display_data",
          "data": {
            "text/plain": [
              "<Figure size 640x480 with 1 Axes>"
            ],
            "image/png": "[encoded data removed]"
          },
          "metadata": {}
        }
      ],
      "source": [
        "#cek Data Outline dengan menggunakan boxplot untuk kolom height\n",
        "print(\"Boxplot weight\")\n",
        "sns.boxplot(dataFrame['weight'])"
      ]
    },
    {
      "cell_type": "code",
      "execution_count": null,
      "metadata": {
        "colab": {
          "base_uri": "https://localhost:8080/",
          "height": 465
        },
        "id": "RmVMca084ftl",
        "outputId": "787442cf-8132-4edd-af82-ad9da6e55ede"
      },
      "outputs": [
        {
          "output_type": "stream",
          "name": "stdout",
          "text": [
            "Boxplot age\n"
          ]
        },
        {
          "output_type": "execute_result",
          "data": {
            "text/plain": [
              "<Axes: >"
            ]
          },
          "metadata": {},
          "execution_count": 10
        },
        {
          "output_type": "display_data",
          "data": {
            "text/plain": [
              "<Figure size 640x480 with 1 Axes>"
            ],
            "image/png": "[encoded data removed]"
          },
          "metadata": {}
        }
      ],
      "source": [
        "#cek Data Outline dengan menggunakan boxplot untuk kolom Age\n",
        "print(\"Boxplot age\")\n",
        "sns.boxplot(dataFrame['age'])"
      ]
    },
    {
      "cell_type": "markdown",
      "metadata": {
        "id": "A_DxvTAg4ftl"
      },
      "source": [
        "### Data Visualization"
      ]
    },
    {
      "cell_type": "code",
      "execution_count": null,
      "metadata": {
        "colab": {
          "base_uri": "https://localhost:8080/",
          "height": 472
        },
        "id": "js-GsodP4ftl",
        "outputId": "e7c610cc-a865-4f56-b75c-d4703f9908a5"
      },
      "outputs": [
        {
          "output_type": "display_data",
          "data": {
            "text/plain": [
              "<Figure size 640x480 with 1 Axes>"
            ],
            "image/png": "[encoded data removed]"
          },
          "metadata": {}
        }
      ],
      "source": [
        "plt.scatter(dataFrame['age'],dataFrame['classes'])\n",
        "plt.title('Relasi Scatter Plot Kolom Age terhadap classes')\n",
        "plt.xlabel(\"Age\")\n",
        "plt.ylabel(\"classes\")\n",
        "plt.show()"
      ]
    },
    {
      "cell_type": "code",
      "execution_count": null,
      "metadata": {
        "colab": {
          "base_uri": "https://localhost:8080/",
          "height": 472
        },
        "id": "MaV70arC4ftl",
        "outputId": "1296681c-d3a4-41c6-945f-fea9085ad4a2"
      },
      "outputs": [
        {
          "output_type": "display_data",
          "data": {
            "text/plain": [
              "<Figure size 640x480 with 1 Axes>"
            ],
            "image/png": "[encoded data removed]"
          },
          "metadata": {}
        }
      ],
      "source": [
        "plt.scatter(dataFrame['weight'],dataFrame['classes'])\n",
        "plt.title('Relasi Scatter Plot Kolom Weight terhadap classes')\n",
        "plt.xlabel(\"Weight\")\n",
        "plt.ylabel(\"classes\")\n",
        "plt.show()"
      ]
    },
    {
      "cell_type": "code",
      "execution_count": null,
      "metadata": {
        "colab": {
          "base_uri": "https://localhost:8080/",
          "height": 506
        },
        "id": "nyOMUHz84ftm",
        "outputId": "b89f962e-75e4-4f01-86b2-d2df6748d261"
      },
      "outputs": [
        {
          "output_type": "display_data",
          "data": {
            "text/plain": [
              "<Figure size 500x500 with 1 Axes>"
            ],
            "image/png": "[encoded data removed]"
          },
          "metadata": {}
        }
      ],
      "source": [
        "#Grafik distribusi data terhadap kolom classes\n",
        "sns.catplot(x='classes', data=dataFrame, kind='count',color='pink')\n",
        "plt.ylabel('Data distribution')\n",
        "plt.xlabel('Classes')\n",
        "plt.show()"
      ]
    },
    {
      "cell_type": "code",
      "execution_count": null,
      "metadata": {
        "colab": {
          "base_uri": "https://localhost:8080/",
          "height": 526
        },
        "id": "8YeVcGka4ftm",
        "outputId": "455f2077-c87a-49c3-cfb4-e8c90b11cdca"
      },
      "outputs": [
        {
          "output_type": "display_data",
          "data": {
            "text/plain": [
              "<Figure size 640x480 with 1 Axes>"
            ],
            "image/png": "[encoded data removed]"
          },
          "metadata": {}
        }
      ],
      "source": [
        "dataFrame.isna().sum()[:30].plot.bar() #menampilkan statistik data yang NaN dalam bar\n",
        "plt.title('Statistik Data NaN')\n",
        "plt.show()"
      ]
    },
    {
      "cell_type": "markdown",
      "metadata": {
        "id": "qkgafrjk4ftm"
      },
      "source": [
        "## PREPROCESSING"
      ]
    },
    {
      "cell_type": "markdown",
      "metadata": {
        "id": "CO8Hhlgt4ftn"
      },
      "source": [
        "### Handle Outliner Data"
      ]
    },
    {
      "cell_type": "code",
      "execution_count": null,
      "metadata": {
        "id": "eg5iSiK14fto"
      },
      "outputs": [],
      "source": [
        "#dalam kolom height terdapat data yang tidak masuk akal replace data tersebut dengan rata2 dari kolom height\n",
        "replaceDataHeight = sorted(dataFrame[\"height\"], reverse=True)\n",
        "for data in dataFrame.height:\n",
        "  if data == replaceDataHeight[0] or data == replaceDataHeight[1] :\n",
        "    dataFrame['height'] = dataFrame['height'].replace([data], int(dataFrame[\"height\"].mean()))\n"
      ]
    },
    {
      "cell_type": "markdown",
      "metadata": {
        "id": "dAvNqWZw4fto"
      },
      "source": [
        "### Handle Missing Value"
      ]
    },
    {
      "cell_type": "code",
      "execution_count": null,
      "metadata": {
        "id": "1IQK9sI74fto"
      },
      "outputs": [],
      "source": [
        "#menambahkan kolom yang mengandung data \"0\" lebih dari 98% ke dalam list\n",
        "zeroDataCol = []\n",
        "NaN = dataFrame.isnull().sum()\n",
        "for col in dataFrame.columns:\n",
        "    col_values = dataFrame[col]\n",
        "    count = (col_values == 0).sum()\n",
        "    percentage = (count/len(dataFrame))*100\n",
        "    if percentage > 98 :\n",
        "        zeroDataCol.append(col)"
      ]
    },
    {
      "cell_type": "code",
      "execution_count": null,
      "metadata": {
        "id": "XjHrYpmq4fto"
      },
      "outputs": [],
      "source": [
        "#menambahkan kolom yang mengandung data \"?\" ke dalam list\n",
        "unknownDataCol = []\n",
        "NaN = dataFrame.isnull().sum()\n",
        "for i in dataFrame.columns:\n",
        "    if NaN[i] != 0 and NaN[i] > 0 :\n",
        "        unknownDataCol.append(i)"
      ]
    },
    {
      "cell_type": "code",
      "execution_count": null,
      "metadata": {
        "id": "UcMoFxgu4ftp"
      },
      "outputs": [],
      "source": [
        "#Menggabungkan dua list diatas untuk dibersihkan\n",
        "toDropData = zeroDataCol + unknownDataCol"
      ]
    },
    {
      "cell_type": "code",
      "execution_count": null,
      "metadata": {
        "id": "Tk2HD0ij4ftp"
      },
      "outputs": [],
      "source": [
        "# Menghapus Semua Data yang hilang dan data yang mengandung nilai \"0\" lebih dari 98%\n",
        "dataFrame.drop(toDropData, axis=1, inplace=True)"
      ]
    },
    {
      "cell_type": "markdown",
      "metadata": {
        "id": "qiOodNy34ftp"
      },
      "source": [
        "### Handle Imbalance Data"
      ]
    },
    {
      "cell_type": "markdown",
      "metadata": {
        "id": "SgLScq-z4ftp"
      },
      "source": [
        "Data harus dirapikan menjadi 2 class dikarenakan distribusi data terhadap kolom target \"Classes\" tidak stabil, Classes kita golongkan menjadi Normal Dan Sakit dikarenakan menurut data yang ada untuk classes 1 tidak terdapat gejala dan classes 2 - 16 terdapat gejala yang berbeda\n",
        "\n",
        "Distribusi Data yang tidak stabil tersebut akan mempengaruhi probabilitas gaussian untuk memplejari pola data train terhadap kolom target \"Classes\""
      ]
    },
    {
      "cell_type": "code",
      "execution_count": null,
      "metadata": {
        "id": "VAPuhF6X4ftp"
      },
      "outputs": [],
      "source": [
        "#Replace nilai kolom classes 1 menjadi NORMAL\n",
        "#Replace nilai kolom classes 2 menjadi TERINDIKASI\n",
        "for i in dataFrame.classes:\n",
        "    if i == 1 :\n",
        "      dataFrame['classes'] = dataFrame['classes'].replace([i], \"NORMAL\")\n",
        "    elif i > 1 :\n",
        "      dataFrame['classes'] = dataFrame['classes'].replace([i], \"TERINDIKASI\")"
      ]
    },
    {
      "cell_type": "markdown",
      "metadata": {
        "id": "XWjEmpCR4ftp"
      },
      "source": [
        "## NORMALIZATION"
      ]
    },
    {
      "cell_type": "markdown",
      "metadata": {
        "id": "2b2Ls_Sy4ftp"
      },
      "source": [
        "Normalisasi digunakan untuk menyamakan skala dari keseluruhan dataframe"
      ]
    },
    {
      "cell_type": "code",
      "execution_count": null,
      "metadata": {
        "id": "mlccLuXf4ftp"
      },
      "outputs": [],
      "source": [
        "#Membuat list baru untuk normalisasi tanpa mengikutkan kolom sex dan classes\n",
        "col_norm = []\n",
        "for i in dataFrame.columns :\n",
        "    if i != \"sex\" and i != \"classes\" :\n",
        "        col_norm.append(i)"
      ]
    },
    {
      "cell_type": "code",
      "execution_count": null,
      "metadata": {
        "id": "fnjHq6CT4ftq"
      },
      "outputs": [],
      "source": [
        "#Normalization menggunakan rasio min max\n",
        "def normalization(allData, ColumnTarget):\n",
        "  for column in ColumnTarget:\n",
        "    allData[column] = (allData[column] - allData[column].min()) / (allData[column].max() - allData[column].min())\n",
        "\n",
        "  return allData\n",
        "\n",
        "dataFrame = normalization(dataFrame, col_norm)"
      ]
    },
    {
      "cell_type": "markdown",
      "metadata": {
        "id": "3ZEuoyye4ftq"
      },
      "source": [
        "## FOLDING"
      ]
    },
    {
      "cell_type": "code",
      "execution_count": null,
      "metadata": {
        "colab": {
          "base_uri": "https://localhost:8080/"
        },
        "id": "j2vCY-Nf4ftq",
        "outputId": "6b90e5ad-57ce-45e4-ef62-17c6756fec44"
      },
      "outputs": [
        {
          "output_type": "stream",
          "name": "stdout",
          "text": [
            "Banyak data test : 90\n",
            "Banyak data train : 362\n",
            "Banyak data test : 90\n",
            "Banyak data train : 362\n",
            "Banyak data test : 90\n",
            "Banyak data train : 362\n",
            "Banyak data test : 90\n",
            "Banyak data train : 362\n",
            "Banyak data test : 90\n",
            "Banyak data train : 362\n"
          ]
        }
      ],
      "source": [
        "data = dataFrame.copy()\n",
        "\n",
        "#Rasio Folding 1/4\n",
        "\n",
        "fold1 = (data.iloc[0:90].reset_index(drop=True), data.iloc[90:452].reset_index(drop=True))\n",
        "fold2 = (data.iloc[90:180].reset_index(drop=True), pd.concat([data.iloc[0:90], data.iloc[180:452]]).reset_index(drop=True))\n",
        "fold3 = (data.iloc[180:270].reset_index(drop=True), pd.concat([data.iloc[0:180], data.iloc[270:452]]).reset_index(drop=True))\n",
        "fold4 = (data.iloc[270:360].reset_index(drop=True), pd.concat([data.iloc[0:270], data.iloc[360:452]]).reset_index(drop=True))\n",
        "fold5 = (data.iloc[362:452].reset_index(drop=True), data.iloc[0:362].reset_index(drop=True))\n",
        "\n",
        "test, train = fold1\n",
        "print(f\"Banyak data test : {len(test)}\")\n",
        "print(f\"Banyak data train : {len(train)}\")\n",
        "test, train = fold2\n",
        "print(f\"Banyak data test : {len(test)}\")\n",
        "print(f\"Banyak data train : {len(train)}\")\n",
        "test, train = fold3\n",
        "print(f\"Banyak data test : {len(test)}\")\n",
        "print(f\"Banyak data train : {len(train)}\")\n",
        "test, train = fold4\n",
        "print(f\"Banyak data test : {len(test)}\")\n",
        "print(f\"Banyak data train : {len(train)}\")\n",
        "test, train = fold5\n",
        "print(f\"Banyak data test : {len(test)}\")\n",
        "print(f\"Banyak data train : {len(train)}\")"
      ]
    },
    {
      "cell_type": "markdown",
      "metadata": {
        "id": "utVwAzCl4ftq"
      },
      "source": [
        "## kNN"
      ]
    },
    {
      "cell_type": "code",
      "execution_count": null,
      "metadata": {
        "id": "5rAYHQGp4ftq"
      },
      "outputs": [],
      "source": [
        "#Fungsi Rumus Ecludian untuk menghitung jarak data\n",
        "def euclidean(x1, x2):\n",
        "    return np.sqrt(np.sum((x1 - x2) ** 2))"
      ]
    },
    {
      "cell_type": "code",
      "execution_count": null,
      "metadata": {
        "id": "YDX97yA24ftr"
      },
      "outputs": [],
      "source": [
        "def kNN(x_train,y_train,x_test,k):\n",
        "  dist = []\n",
        "\n",
        "  for row in range(x_train.shape[0]):\n",
        "    dist.append(euclidean(x_train.iloc[row],x_test))\n",
        "\n",
        "  data = x_train.copy()\n",
        "  data['Dist'] = dist\n",
        "  data['Class'] = y_train\n",
        "\n",
        "  data = data.sort_values(by='Dist').reset_index(drop=True)\n",
        "\n",
        "  y_pred = data.iloc[:k].Class.mode()\n",
        "\n",
        "  return y_pred[0]"
      ]
    },
    {
      "cell_type": "code",
      "execution_count": null,
      "metadata": {
        "id": "742zAeYT4ftu"
      },
      "outputs": [],
      "source": [
        "# Fungsi untuk menghitung akurasi\n",
        "def acc(y_pred, y_true):\n",
        "    true = 0\n",
        "    for i in range(len(y_pred)):\n",
        "        if y_pred[i] == y_true[i]:\n",
        "            true += 1\n",
        "    return true / len(y_pred)*100"
      ]
    },
    {
      "cell_type": "code",
      "execution_count": null,
      "metadata": {
        "id": "dz0_WLns4ftu"
      },
      "outputs": [],
      "source": [
        "#fungsi evaluasi, untuk mengevaluasi semua fold\n",
        "def evaluate(fold, k):\n",
        "    test, train = fold\n",
        "\n",
        "    X_train, y_train = train.drop(\"classes\", axis=1), train[\"classes\"]\n",
        "    X_test, y_test = test.drop(\"classes\", axis=1), test[\"classes\"]\n",
        "\n",
        "    y_preds = []\n",
        "\n",
        "    for row in range(X_test.shape[0]):\n",
        "        y_preds.append(kNN(X_train, y_train, X_test.iloc[row], k))\n",
        "\n",
        "    return acc(y_preds, y_test)"
      ]
    },
    {
      "cell_type": "markdown",
      "metadata": {
        "id": "pCq0Baxh4ftu"
      },
      "source": [
        "### CROSS VALIDATION"
      ]
    },
    {
      "cell_type": "code",
      "execution_count": null,
      "metadata": {
        "colab": {
          "base_uri": "https://localhost:8080/"
        },
        "id": "9IJYUH6x4ftv",
        "outputId": "7bde66cb-d8f9-4b29-dc34-b4176d1c0725"
      },
      "outputs": [
        {
          "output_type": "stream",
          "name": "stdout",
          "text": [
            "Nilai K: 1, akurasi: 62.44%\n",
            "Nilai K: 2, akurasi: 62.22%\n",
            "Nilai K: 3, akurasi: 64.89%\n",
            "Nilai K: 4, akurasi: 63.78%\n",
            "Nilai K: 5, akurasi: 64.22%\n",
            "K Terbaik: 3, Akurasi Terbaik: 64.89%\n"
          ]
        }
      ],
      "source": [
        "best_accuracy = 0\n",
        "folds = [fold1, fold2, fold3, fold4, fold5]\n",
        "accs = []\n",
        "accuracy_dict = {}\n",
        "\n",
        "for k in range(1, 6):\n",
        "    accs = []\n",
        "    for fold in folds:\n",
        "        accuracy = evaluate(fold, k)\n",
        "        accs.append(accuracy)\n",
        "    avg_accuracy = sum(accs) / len(accs)\n",
        "    accuracy_dict[k] = avg_accuracy\n",
        "    print(f'Nilai K: {k}, akurasi: {avg_accuracy:.2f}%')\n",
        "\n",
        "best_K = 0\n",
        "for key, value in accuracy_dict.items():\n",
        "    if value == max(accuracy_dict.values()):\n",
        "        best_K = key\n",
        "\n",
        "print(f'K Terbaik: {best_K}, Akurasi Terbaik: {max(accuracy_dict.values()):.2f}%')"
      ]
    },
    {
      "cell_type": "markdown",
      "metadata": {
        "id": "ImQcTook4ftv"
      },
      "source": [
        "## Gaussian Naive Bayes"
      ]
    },
    {
      "cell_type": "markdown",
      "metadata": {
        "id": "98d7ulCo4ftv"
      },
      "source": [
        "perhitungan gaussian untuk mempelajari pola data (data model) setiap data untuk kolom target \"Classes\""
      ]
    },
    {
      "cell_type": "code",
      "execution_count": null,
      "metadata": {
        "id": "2uhIZS914ftv"
      },
      "outputs": [],
      "source": [
        "def GaussianProb(x_train, y_train):\n",
        "  nb = GaussianNB()\n",
        "  return nb.fit(x_train, y_train)"
      ]
    },
    {
      "cell_type": "code",
      "execution_count": null,
      "metadata": {
        "colab": {
          "base_uri": "https://localhost:8080/"
        },
        "id": "FSagDTw04ftv",
        "outputId": "c2ba16ba-0f71-40d1-9b73-3b4d98c7ae6b"
      },
      "outputs": [
        {
          "output_type": "stream",
          "name": "stdout",
          "text": [
            "rata-rata Akurasi : 75.77777777777777%\n"
          ]
        }
      ],
      "source": [
        "folds = [fold1, fold2, fold3, fold4, fold5]\n",
        "\n",
        "NBaccs = []\n",
        "\n",
        "for fold in folds :\n",
        "    test, train = fold\n",
        "    X_train, y_train = train.drop(\"classes\", axis=1), train[\"classes\"]\n",
        "    X_test, y_test = test.drop(\"classes\", axis=1), test[\"classes\"]\n",
        "    naiveBayes =  GaussianProb(X_train, y_train)\n",
        "    NBaccs.append(naiveBayes.score(X_test, y_test))\n",
        "\n",
        "\n",
        "print(f\"rata-rata Akurasi : {(sum(NBaccs)/len(folds)) * 100}%\")"
      ]
    }
  ],
  "metadata": {
    "kernelspec": {
      "display_name": "myenv",
      "language": "python",
      "name": "python3"
    },
    "language_info": {
      "codemirror_mode": {
        "name": "ipython",
        "version": 3
      },
      "file_extension": ".py",
      "mimetype": "text/x-python",
      "name": "python",
      "nbconvert_exporter": "python",
      "pygments_lexer": "ipython3",
      "version": "3.11.4"
    },
    "orig_nbformat": 4,
    "colab": {
      "provenance": []
    }
  },
  "nbformat": 4,
  "nbformat_minor": 0
}